{
  "nbformat": 4,
  "nbformat_minor": 0,
  "metadata": {
    "colab": {
      "name": " Heart Disease Prediction with Deployment.ipynb",
      "provenance": [],
      "collapsed_sections": [
        "W77xuwm9GWK7"
      ]
    },
    "kernelspec": {
      "name": "python3",
      "display_name": "Python 3"
    },
    "language_info": {
      "name": "python"
    }
  },
  "cells": [
    {
      "cell_type": "markdown",
      "source": [
        "## Importing Libraries"
      ],
      "metadata": {
        "id": "Z0CYmQr9pmGV"
      }
    },
    {
      "cell_type": "code",
      "execution_count": 1,
      "metadata": {
        "id": "24Q8JxIWEX8d"
      },
      "outputs": [],
      "source": [
        "import numpy as np\n",
        "import pandas as pd\n",
        "import matplotlib.pyplot as plt\n",
        "import seaborn as sns\n",
        "from sklearn.preprocessing import StandardScaler\n",
        "from sklearn.model_selection import train_test_split\n",
        "\n",
        "from sklearn.model_selection import GridSearchCV\n",
        "from sklearn.model_selection import ShuffleSplit\n",
        "from sklearn.linear_model import LogisticRegression\n",
        "from sklearn.tree import DecisionTreeClassifier\n",
        "from sklearn.ensemble import RandomForestClassifier\n",
        "from sklearn.svm import SVC\n",
        "\n",
        "from sklearn.model_selection import cross_val_score\n",
        "from sklearn.metrics import confusion_matrix, accuracy_score\n",
        "import pickle as pk\n",
        "\n",
        "import warnings\n",
        "warnings.filterwarnings('ignore')"
      ]
    },
    {
      "cell_type": "markdown",
      "source": [
        "## Data collection and Data pre-processing\n",
        "\n",
        "### About dataset: [heart data](https://www.kaggle.com/datasets/fedesoriano/heart-failure-prediction)\n",
        "\n",
        "Attribute Information:\n",
        "1. Age: age of the patient [years]\n",
        "2. Sex: sex of the patient [M: Male, F: Female]\n",
        "3. ChestPainType: chest pain type [TA: Typical Angina, ATA: Atypical Angina, NAP: Non-Anginal Pain, ASY: Asymptomatic]\n",
        "4. RestingBP: resting blood pressure [mm Hg]\n",
        "5. Cholesterol: serum cholesterol [mm/dl]\n",
        "6. FastingBS: fasting blood sugar [1: if FastingBS > 120 mg/dl, 0: otherwise]\n",
        "7. RestingECG: resting electrocardiogram results [Normal: Normal, ST: having  ST-T wave abnormality (T wave inversions and/or ST elevation or depression of > 0.05 mV), LVH: showing probable or definite left ventricular hypertrophy by Estes' criteria]\n",
        "8. MaxHR: maximum heart rate achieved [Numeric value between 60 and 202]\n",
        "9. ExerciseAngina: exercise-induced angina [Y: Yes, N: No]\n",
        "10. Oldpeak: oldpeak = ST [Numeric value measured in depression]\n",
        "11. ST_Slope: the slope of the peak exercise ST segment [Up: upsloping, Flat: flat, Down: downsloping]\n",
        "12. HeartDisease: output class [1: heart disease, 0: Normal]"
      ],
      "metadata": {
        "id": "JEq7oYeDqKiU"
      }
    },
    {
      "cell_type": "code",
      "source": [
        "#Loading dataset into Pandas Dataframe\n",
        "heart_data = pd.read_csv('/content/heart_data.csv')"
      ],
      "metadata": {
        "id": "V-KaoR-NqFck"
      },
      "execution_count": 2,
      "outputs": []
    },
    {
      "cell_type": "code",
      "source": [
        "#Printing top five rows of the data\n",
        "heart_data.head()"
      ],
      "metadata": {
        "id": "2tkd7Dl2qZ3U",
        "colab": {
          "base_uri": "https://localhost:8080/",
          "height": 206
        },
        "outputId": "0bda02e5-dc89-423b-bddd-606b1d988990"
      },
      "execution_count": 3,
      "outputs": [
        {
          "output_type": "execute_result",
          "data": {
            "text/plain": [
              "   Age Sex ChestPainType  RestingBP  Cholesterol  FastingBS RestingECG  MaxHR  \\\n",
              "0   40   M           ATA        140          289          0     Normal    172   \n",
              "1   49   F           NAP        160          180          0     Normal    156   \n",
              "2   37   M           ATA        130          283          0         ST     98   \n",
              "3   48   F           ASY        138          214          0     Normal    108   \n",
              "4   54   M           NAP        150          195          0     Normal    122   \n",
              "\n",
              "  ExerciseAngina  Oldpeak ST_Slope  HeartDisease  \n",
              "0              N      0.0       Up             0  \n",
              "1              N      1.0     Flat             1  \n",
              "2              N      0.0       Up             0  \n",
              "3              Y      1.5     Flat             1  \n",
              "4              N      0.0       Up             0  "
            ],
            "text/html": [
              "\n",
              "  <div id=\"df-4ae326dc-1a80-4465-99a1-453d81a899ee\">\n",
              "    <div class=\"colab-df-container\">\n",
              "      <div>\n",
              "<style scoped>\n",
              "    .dataframe tbody tr th:only-of-type {\n",
              "        vertical-align: middle;\n",
              "    }\n",
              "\n",
              "    .dataframe tbody tr th {\n",
              "        vertical-align: top;\n",
              "    }\n",
              "\n",
              "    .dataframe thead th {\n",
              "        text-align: right;\n",
              "    }\n",
              "</style>\n",
              "<table border=\"1\" class=\"dataframe\">\n",
              "  <thead>\n",
              "    <tr style=\"text-align: right;\">\n",
              "      <th></th>\n",
              "      <th>Age</th>\n",
              "      <th>Sex</th>\n",
              "      <th>ChestPainType</th>\n",
              "      <th>RestingBP</th>\n",
              "      <th>Cholesterol</th>\n",
              "      <th>FastingBS</th>\n",
              "      <th>RestingECG</th>\n",
              "      <th>MaxHR</th>\n",
              "      <th>ExerciseAngina</th>\n",
              "      <th>Oldpeak</th>\n",
              "      <th>ST_Slope</th>\n",
              "      <th>HeartDisease</th>\n",
              "    </tr>\n",
              "  </thead>\n",
              "  <tbody>\n",
              "    <tr>\n",
              "      <th>0</th>\n",
              "      <td>40</td>\n",
              "      <td>M</td>\n",
              "      <td>ATA</td>\n",
              "      <td>140</td>\n",
              "      <td>289</td>\n",
              "      <td>0</td>\n",
              "      <td>Normal</td>\n",
              "      <td>172</td>\n",
              "      <td>N</td>\n",
              "      <td>0.0</td>\n",
              "      <td>Up</td>\n",
              "      <td>0</td>\n",
              "    </tr>\n",
              "    <tr>\n",
              "      <th>1</th>\n",
              "      <td>49</td>\n",
              "      <td>F</td>\n",
              "      <td>NAP</td>\n",
              "      <td>160</td>\n",
              "      <td>180</td>\n",
              "      <td>0</td>\n",
              "      <td>Normal</td>\n",
              "      <td>156</td>\n",
              "      <td>N</td>\n",
              "      <td>1.0</td>\n",
              "      <td>Flat</td>\n",
              "      <td>1</td>\n",
              "    </tr>\n",
              "    <tr>\n",
              "      <th>2</th>\n",
              "      <td>37</td>\n",
              "      <td>M</td>\n",
              "      <td>ATA</td>\n",
              "      <td>130</td>\n",
              "      <td>283</td>\n",
              "      <td>0</td>\n",
              "      <td>ST</td>\n",
              "      <td>98</td>\n",
              "      <td>N</td>\n",
              "      <td>0.0</td>\n",
              "      <td>Up</td>\n",
              "      <td>0</td>\n",
              "    </tr>\n",
              "    <tr>\n",
              "      <th>3</th>\n",
              "      <td>48</td>\n",
              "      <td>F</td>\n",
              "      <td>ASY</td>\n",
              "      <td>138</td>\n",
              "      <td>214</td>\n",
              "      <td>0</td>\n",
              "      <td>Normal</td>\n",
              "      <td>108</td>\n",
              "      <td>Y</td>\n",
              "      <td>1.5</td>\n",
              "      <td>Flat</td>\n",
              "      <td>1</td>\n",
              "    </tr>\n",
              "    <tr>\n",
              "      <th>4</th>\n",
              "      <td>54</td>\n",
              "      <td>M</td>\n",
              "      <td>NAP</td>\n",
              "      <td>150</td>\n",
              "      <td>195</td>\n",
              "      <td>0</td>\n",
              "      <td>Normal</td>\n",
              "      <td>122</td>\n",
              "      <td>N</td>\n",
              "      <td>0.0</td>\n",
              "      <td>Up</td>\n",
              "      <td>0</td>\n",
              "    </tr>\n",
              "  </tbody>\n",
              "</table>\n",
              "</div>\n",
              "      <button class=\"colab-df-convert\" onclick=\"convertToInteractive('df-4ae326dc-1a80-4465-99a1-453d81a899ee')\"\n",
              "              title=\"Convert this dataframe to an interactive table.\"\n",
              "              style=\"display:none;\">\n",
              "        \n",
              "  <svg xmlns=\"http://www.w3.org/2000/svg\" height=\"24px\"viewBox=\"0 0 24 24\"\n",
              "       width=\"24px\">\n",
              "    <path d=\"M0 0h24v24H0V0z\" fill=\"none\"/>\n",
              "    <path d=\"M18.56 5.44l.94 2.06.94-2.06 2.06-.94-2.06-.94-.94-2.06-.94 2.06-2.06.94zm-11 1L8.5 8.5l.94-2.06 2.06-.94-2.06-.94L8.5 2.5l-.94 2.06-2.06.94zm10 10l.94 2.06.94-2.06 2.06-.94-2.06-.94-.94-2.06-.94 2.06-2.06.94z\"/><path d=\"M17.41 7.96l-1.37-1.37c-.4-.4-.92-.59-1.43-.59-.52 0-1.04.2-1.43.59L10.3 9.45l-7.72 7.72c-.78.78-.78 2.05 0 2.83L4 21.41c.39.39.9.59 1.41.59.51 0 1.02-.2 1.41-.59l7.78-7.78 2.81-2.81c.8-.78.8-2.07 0-2.86zM5.41 20L4 18.59l7.72-7.72 1.47 1.35L5.41 20z\"/>\n",
              "  </svg>\n",
              "      </button>\n",
              "      \n",
              "  <style>\n",
              "    .colab-df-container {\n",
              "      display:flex;\n",
              "      flex-wrap:wrap;\n",
              "      gap: 12px;\n",
              "    }\n",
              "\n",
              "    .colab-df-convert {\n",
              "      background-color: #E8F0FE;\n",
              "      border: none;\n",
              "      border-radius: 50%;\n",
              "      cursor: pointer;\n",
              "      display: none;\n",
              "      fill: #1967D2;\n",
              "      height: 32px;\n",
              "      padding: 0 0 0 0;\n",
              "      width: 32px;\n",
              "    }\n",
              "\n",
              "    .colab-df-convert:hover {\n",
              "      background-color: #E2EBFA;\n",
              "      box-shadow: 0px 1px 2px rgba(60, 64, 67, 0.3), 0px 1px 3px 1px rgba(60, 64, 67, 0.15);\n",
              "      fill: #174EA6;\n",
              "    }\n",
              "\n",
              "    [theme=dark] .colab-df-convert {\n",
              "      background-color: #3B4455;\n",
              "      fill: #D2E3FC;\n",
              "    }\n",
              "\n",
              "    [theme=dark] .colab-df-convert:hover {\n",
              "      background-color: #434B5C;\n",
              "      box-shadow: 0px 1px 3px 1px rgba(0, 0, 0, 0.15);\n",
              "      filter: drop-shadow(0px 1px 2px rgba(0, 0, 0, 0.3));\n",
              "      fill: #FFFFFF;\n",
              "    }\n",
              "  </style>\n",
              "\n",
              "      <script>\n",
              "        const buttonEl =\n",
              "          document.querySelector('#df-4ae326dc-1a80-4465-99a1-453d81a899ee button.colab-df-convert');\n",
              "        buttonEl.style.display =\n",
              "          google.colab.kernel.accessAllowed ? 'block' : 'none';\n",
              "\n",
              "        async function convertToInteractive(key) {\n",
              "          const element = document.querySelector('#df-4ae326dc-1a80-4465-99a1-453d81a899ee');\n",
              "          const dataTable =\n",
              "            await google.colab.kernel.invokeFunction('convertToInteractive',\n",
              "                                                     [key], {});\n",
              "          if (!dataTable) return;\n",
              "\n",
              "          const docLinkHtml = 'Like what you see? Visit the ' +\n",
              "            '<a target=\"_blank\" href=https://colab.research.google.com/notebooks/data_table.ipynb>data table notebook</a>'\n",
              "            + ' to learn more about interactive tables.';\n",
              "          element.innerHTML = '';\n",
              "          dataTable['output_type'] = 'display_data';\n",
              "          await google.colab.output.renderOutput(dataTable, element);\n",
              "          const docLink = document.createElement('div');\n",
              "          docLink.innerHTML = docLinkHtml;\n",
              "          element.appendChild(docLink);\n",
              "        }\n",
              "      </script>\n",
              "    </div>\n",
              "  </div>\n",
              "  "
            ]
          },
          "metadata": {},
          "execution_count": 3
        }
      ]
    },
    {
      "cell_type": "code",
      "source": [
        "#Number of rows and columns\n",
        "heart_data.shape"
      ],
      "metadata": {
        "id": "qTE7Om6UqhMC",
        "colab": {
          "base_uri": "https://localhost:8080/"
        },
        "outputId": "95b428f3-3be6-4be5-fe36-54708d6b0be3"
      },
      "execution_count": 4,
      "outputs": [
        {
          "output_type": "execute_result",
          "data": {
            "text/plain": [
              "(918, 12)"
            ]
          },
          "metadata": {},
          "execution_count": 4
        }
      ]
    },
    {
      "cell_type": "code",
      "source": [
        "#Getting some information about data\n",
        "heart_data.info()"
      ],
      "metadata": {
        "id": "yuf0ns4tqmq5",
        "colab": {
          "base_uri": "https://localhost:8080/"
        },
        "outputId": "e1a35dd0-b116-4523-ec8a-3c7407574c3f"
      },
      "execution_count": 5,
      "outputs": [
        {
          "output_type": "stream",
          "name": "stdout",
          "text": [
            "<class 'pandas.core.frame.DataFrame'>\n",
            "RangeIndex: 918 entries, 0 to 917\n",
            "Data columns (total 12 columns):\n",
            " #   Column          Non-Null Count  Dtype  \n",
            "---  ------          --------------  -----  \n",
            " 0   Age             918 non-null    int64  \n",
            " 1   Sex             918 non-null    object \n",
            " 2   ChestPainType   918 non-null    object \n",
            " 3   RestingBP       918 non-null    int64  \n",
            " 4   Cholesterol     918 non-null    int64  \n",
            " 5   FastingBS       918 non-null    int64  \n",
            " 6   RestingECG      918 non-null    object \n",
            " 7   MaxHR           918 non-null    int64  \n",
            " 8   ExerciseAngina  918 non-null    object \n",
            " 9   Oldpeak         918 non-null    float64\n",
            " 10  ST_Slope        918 non-null    object \n",
            " 11  HeartDisease    918 non-null    int64  \n",
            "dtypes: float64(1), int64(6), object(5)\n",
            "memory usage: 86.2+ KB\n"
          ]
        }
      ]
    },
    {
      "cell_type": "code",
      "source": [
        "#Checking for missing values\n",
        "heart_data.isnull().sum()"
      ],
      "metadata": {
        "id": "p2pTpKL4qwuC",
        "colab": {
          "base_uri": "https://localhost:8080/"
        },
        "outputId": "4d686132-66ec-4de5-87e6-7fd0a9b2e678"
      },
      "execution_count": 6,
      "outputs": [
        {
          "output_type": "execute_result",
          "data": {
            "text/plain": [
              "Age               0\n",
              "Sex               0\n",
              "ChestPainType     0\n",
              "RestingBP         0\n",
              "Cholesterol       0\n",
              "FastingBS         0\n",
              "RestingECG        0\n",
              "MaxHR             0\n",
              "ExerciseAngina    0\n",
              "Oldpeak           0\n",
              "ST_Slope          0\n",
              "HeartDisease      0\n",
              "dtype: int64"
            ]
          },
          "metadata": {},
          "execution_count": 6
        }
      ]
    },
    {
      "cell_type": "code",
      "source": [
        "#Statistical measures of the data\n",
        "heart_data.describe()"
      ],
      "metadata": {
        "id": "NVv0de3fq34K",
        "colab": {
          "base_uri": "https://localhost:8080/",
          "height": 300
        },
        "outputId": "f66291dc-320a-4e74-c363-80a0af2fb6fb"
      },
      "execution_count": 7,
      "outputs": [
        {
          "output_type": "execute_result",
          "data": {
            "text/plain": [
              "              Age   RestingBP  Cholesterol   FastingBS       MaxHR  \\\n",
              "count  918.000000  918.000000   918.000000  918.000000  918.000000   \n",
              "mean    53.510893  132.396514   198.799564    0.233115  136.809368   \n",
              "std      9.432617   18.514154   109.384145    0.423046   25.460334   \n",
              "min     28.000000    0.000000     0.000000    0.000000   60.000000   \n",
              "25%     47.000000  120.000000   173.250000    0.000000  120.000000   \n",
              "50%     54.000000  130.000000   223.000000    0.000000  138.000000   \n",
              "75%     60.000000  140.000000   267.000000    0.000000  156.000000   \n",
              "max     77.000000  200.000000   603.000000    1.000000  202.000000   \n",
              "\n",
              "          Oldpeak  HeartDisease  \n",
              "count  918.000000    918.000000  \n",
              "mean     0.887364      0.553377  \n",
              "std      1.066570      0.497414  \n",
              "min     -2.600000      0.000000  \n",
              "25%      0.000000      0.000000  \n",
              "50%      0.600000      1.000000  \n",
              "75%      1.500000      1.000000  \n",
              "max      6.200000      1.000000  "
            ],
            "text/html": [
              "\n",
              "  <div id=\"df-4dc043c6-45e7-4dc0-852e-c2a3de84fc74\">\n",
              "    <div class=\"colab-df-container\">\n",
              "      <div>\n",
              "<style scoped>\n",
              "    .dataframe tbody tr th:only-of-type {\n",
              "        vertical-align: middle;\n",
              "    }\n",
              "\n",
              "    .dataframe tbody tr th {\n",
              "        vertical-align: top;\n",
              "    }\n",
              "\n",
              "    .dataframe thead th {\n",
              "        text-align: right;\n",
              "    }\n",
              "</style>\n",
              "<table border=\"1\" class=\"dataframe\">\n",
              "  <thead>\n",
              "    <tr style=\"text-align: right;\">\n",
              "      <th></th>\n",
              "      <th>Age</th>\n",
              "      <th>RestingBP</th>\n",
              "      <th>Cholesterol</th>\n",
              "      <th>FastingBS</th>\n",
              "      <th>MaxHR</th>\n",
              "      <th>Oldpeak</th>\n",
              "      <th>HeartDisease</th>\n",
              "    </tr>\n",
              "  </thead>\n",
              "  <tbody>\n",
              "    <tr>\n",
              "      <th>count</th>\n",
              "      <td>918.000000</td>\n",
              "      <td>918.000000</td>\n",
              "      <td>918.000000</td>\n",
              "      <td>918.000000</td>\n",
              "      <td>918.000000</td>\n",
              "      <td>918.000000</td>\n",
              "      <td>918.000000</td>\n",
              "    </tr>\n",
              "    <tr>\n",
              "      <th>mean</th>\n",
              "      <td>53.510893</td>\n",
              "      <td>132.396514</td>\n",
              "      <td>198.799564</td>\n",
              "      <td>0.233115</td>\n",
              "      <td>136.809368</td>\n",
              "      <td>0.887364</td>\n",
              "      <td>0.553377</td>\n",
              "    </tr>\n",
              "    <tr>\n",
              "      <th>std</th>\n",
              "      <td>9.432617</td>\n",
              "      <td>18.514154</td>\n",
              "      <td>109.384145</td>\n",
              "      <td>0.423046</td>\n",
              "      <td>25.460334</td>\n",
              "      <td>1.066570</td>\n",
              "      <td>0.497414</td>\n",
              "    </tr>\n",
              "    <tr>\n",
              "      <th>min</th>\n",
              "      <td>28.000000</td>\n",
              "      <td>0.000000</td>\n",
              "      <td>0.000000</td>\n",
              "      <td>0.000000</td>\n",
              "      <td>60.000000</td>\n",
              "      <td>-2.600000</td>\n",
              "      <td>0.000000</td>\n",
              "    </tr>\n",
              "    <tr>\n",
              "      <th>25%</th>\n",
              "      <td>47.000000</td>\n",
              "      <td>120.000000</td>\n",
              "      <td>173.250000</td>\n",
              "      <td>0.000000</td>\n",
              "      <td>120.000000</td>\n",
              "      <td>0.000000</td>\n",
              "      <td>0.000000</td>\n",
              "    </tr>\n",
              "    <tr>\n",
              "      <th>50%</th>\n",
              "      <td>54.000000</td>\n",
              "      <td>130.000000</td>\n",
              "      <td>223.000000</td>\n",
              "      <td>0.000000</td>\n",
              "      <td>138.000000</td>\n",
              "      <td>0.600000</td>\n",
              "      <td>1.000000</td>\n",
              "    </tr>\n",
              "    <tr>\n",
              "      <th>75%</th>\n",
              "      <td>60.000000</td>\n",
              "      <td>140.000000</td>\n",
              "      <td>267.000000</td>\n",
              "      <td>0.000000</td>\n",
              "      <td>156.000000</td>\n",
              "      <td>1.500000</td>\n",
              "      <td>1.000000</td>\n",
              "    </tr>\n",
              "    <tr>\n",
              "      <th>max</th>\n",
              "      <td>77.000000</td>\n",
              "      <td>200.000000</td>\n",
              "      <td>603.000000</td>\n",
              "      <td>1.000000</td>\n",
              "      <td>202.000000</td>\n",
              "      <td>6.200000</td>\n",
              "      <td>1.000000</td>\n",
              "    </tr>\n",
              "  </tbody>\n",
              "</table>\n",
              "</div>\n",
              "      <button class=\"colab-df-convert\" onclick=\"convertToInteractive('df-4dc043c6-45e7-4dc0-852e-c2a3de84fc74')\"\n",
              "              title=\"Convert this dataframe to an interactive table.\"\n",
              "              style=\"display:none;\">\n",
              "        \n",
              "  <svg xmlns=\"http://www.w3.org/2000/svg\" height=\"24px\"viewBox=\"0 0 24 24\"\n",
              "       width=\"24px\">\n",
              "    <path d=\"M0 0h24v24H0V0z\" fill=\"none\"/>\n",
              "    <path d=\"M18.56 5.44l.94 2.06.94-2.06 2.06-.94-2.06-.94-.94-2.06-.94 2.06-2.06.94zm-11 1L8.5 8.5l.94-2.06 2.06-.94-2.06-.94L8.5 2.5l-.94 2.06-2.06.94zm10 10l.94 2.06.94-2.06 2.06-.94-2.06-.94-.94-2.06-.94 2.06-2.06.94z\"/><path d=\"M17.41 7.96l-1.37-1.37c-.4-.4-.92-.59-1.43-.59-.52 0-1.04.2-1.43.59L10.3 9.45l-7.72 7.72c-.78.78-.78 2.05 0 2.83L4 21.41c.39.39.9.59 1.41.59.51 0 1.02-.2 1.41-.59l7.78-7.78 2.81-2.81c.8-.78.8-2.07 0-2.86zM5.41 20L4 18.59l7.72-7.72 1.47 1.35L5.41 20z\"/>\n",
              "  </svg>\n",
              "      </button>\n",
              "      \n",
              "  <style>\n",
              "    .colab-df-container {\n",
              "      display:flex;\n",
              "      flex-wrap:wrap;\n",
              "      gap: 12px;\n",
              "    }\n",
              "\n",
              "    .colab-df-convert {\n",
              "      background-color: #E8F0FE;\n",
              "      border: none;\n",
              "      border-radius: 50%;\n",
              "      cursor: pointer;\n",
              "      display: none;\n",
              "      fill: #1967D2;\n",
              "      height: 32px;\n",
              "      padding: 0 0 0 0;\n",
              "      width: 32px;\n",
              "    }\n",
              "\n",
              "    .colab-df-convert:hover {\n",
              "      background-color: #E2EBFA;\n",
              "      box-shadow: 0px 1px 2px rgba(60, 64, 67, 0.3), 0px 1px 3px 1px rgba(60, 64, 67, 0.15);\n",
              "      fill: #174EA6;\n",
              "    }\n",
              "\n",
              "    [theme=dark] .colab-df-convert {\n",
              "      background-color: #3B4455;\n",
              "      fill: #D2E3FC;\n",
              "    }\n",
              "\n",
              "    [theme=dark] .colab-df-convert:hover {\n",
              "      background-color: #434B5C;\n",
              "      box-shadow: 0px 1px 3px 1px rgba(0, 0, 0, 0.15);\n",
              "      filter: drop-shadow(0px 1px 2px rgba(0, 0, 0, 0.3));\n",
              "      fill: #FFFFFF;\n",
              "    }\n",
              "  </style>\n",
              "\n",
              "      <script>\n",
              "        const buttonEl =\n",
              "          document.querySelector('#df-4dc043c6-45e7-4dc0-852e-c2a3de84fc74 button.colab-df-convert');\n",
              "        buttonEl.style.display =\n",
              "          google.colab.kernel.accessAllowed ? 'block' : 'none';\n",
              "\n",
              "        async function convertToInteractive(key) {\n",
              "          const element = document.querySelector('#df-4dc043c6-45e7-4dc0-852e-c2a3de84fc74');\n",
              "          const dataTable =\n",
              "            await google.colab.kernel.invokeFunction('convertToInteractive',\n",
              "                                                     [key], {});\n",
              "          if (!dataTable) return;\n",
              "\n",
              "          const docLinkHtml = 'Like what you see? Visit the ' +\n",
              "            '<a target=\"_blank\" href=https://colab.research.google.com/notebooks/data_table.ipynb>data table notebook</a>'\n",
              "            + ' to learn more about interactive tables.';\n",
              "          element.innerHTML = '';\n",
              "          dataTable['output_type'] = 'display_data';\n",
              "          await google.colab.output.renderOutput(dataTable, element);\n",
              "          const docLink = document.createElement('div');\n",
              "          docLink.innerHTML = docLinkHtml;\n",
              "          element.appendChild(docLink);\n",
              "        }\n",
              "      </script>\n",
              "    </div>\n",
              "  </div>\n",
              "  "
            ]
          },
          "metadata": {},
          "execution_count": 7
        }
      ]
    },
    {
      "cell_type": "code",
      "source": [
        "#Checking the distribution of target values\n",
        "heart_data['HeartDisease'].value_counts()"
      ],
      "metadata": {
        "id": "jSTeWVEIq_1K",
        "colab": {
          "base_uri": "https://localhost:8080/"
        },
        "outputId": "d83c07de-7e0e-42da-f1d7-614c026bac64"
      },
      "execution_count": 8,
      "outputs": [
        {
          "output_type": "execute_result",
          "data": {
            "text/plain": [
              "1    508\n",
              "0    410\n",
              "Name: HeartDisease, dtype: int64"
            ]
          },
          "metadata": {},
          "execution_count": 8
        }
      ]
    },
    {
      "cell_type": "markdown",
      "source": [
        "1 --> Defective heart\n",
        "\n",
        "0 --> Healthy heart"
      ],
      "metadata": {
        "id": "oY1nSgXhsLqB"
      }
    },
    {
      "cell_type": "code",
      "source": [
        "#Finding object datatype columns\n",
        "heart_data.select_dtypes(['object']).columns"
      ],
      "metadata": {
        "id": "sGAqHxivddWR",
        "colab": {
          "base_uri": "https://localhost:8080/"
        },
        "outputId": "8fe87b52-a29e-4106-d3ce-043be6468990"
      },
      "execution_count": 9,
      "outputs": [
        {
          "output_type": "execute_result",
          "data": {
            "text/plain": [
              "Index(['Sex', 'ChestPainType', 'RestingECG', 'ExerciseAngina', 'ST_Slope'], dtype='object')"
            ]
          },
          "metadata": {},
          "execution_count": 9
        }
      ]
    },
    {
      "cell_type": "code",
      "source": [
        "#Checking Distributions of sex columns\n",
        "plot = plt.figure(figsize=(6,6))\n",
        "plt.gca().spines['top'].set_visible(False)\n",
        "plt.gca().spines['right'].set_visible(False)\n",
        "sns.countplot(heart_data['Sex'],palette=\"Spectral_r\")\n",
        "plt.show()"
      ],
      "metadata": {
        "id": "3ZIJeB2yeOlL",
        "colab": {
          "base_uri": "https://localhost:8080/",
          "height": 388
        },
        "outputId": "92def745-24e8-4898-d15f-3042c77cadbe"
      },
      "execution_count": 10,
      "outputs": [
        {
          "output_type": "display_data",
          "data": {
            "text/plain": [
              "<Figure size 432x432 with 1 Axes>"
            ],
            "image/png": "[encoded data removed]"
          },
          "metadata": {
            "needs_background": "light"
          }
        }
      ]
    },
    {
      "cell_type": "code",
      "source": [
        "#Replacing values in sex columns with zeros and ones\n",
        "heart_data['Sex'].replace({'M':1, 'F':0}, inplace=True)"
      ],
      "metadata": {
        "id": "DjrmnuDbd-uF"
      },
      "execution_count": 11,
      "outputs": []
    },
    {
      "cell_type": "code",
      "source": [
        "#Checking Distributions of column ChestPainType\n",
        "plot = plt.figure(figsize=(6,6))\n",
        "plt.gca().spines['top'].set_visible(False)\n",
        "plt.gca().spines['right'].set_visible(False)\n",
        "sns.countplot(heart_data['ChestPainType'], palette =\"icefire\")\n",
        "plt.show()\n"
      ],
      "metadata": {
        "id": "ElqiMrb3fnzc",
        "colab": {
          "base_uri": "https://localhost:8080/",
          "height": 388
        },
        "outputId": "91511788-6988-4181-fb84-cd5eb5c519f7"
      },
      "execution_count": 12,
      "outputs": [
        {
          "output_type": "display_data",
          "data": {
            "text/plain": [
              "<Figure size 432x432 with 1 Axes>"
            ],
            "image/png": "[encoded data removed]"
          },
          "metadata": {
            "needs_background": "light"
          }
        }
      ]
    },
    {
      "cell_type": "code",
      "source": [
        "#Replacing values in ChestPainType columns with numeric values\n",
        "heart_data['ChestPainType'].replace({'ATA':0,'NAP':1,'ASY':2,'TA':3}, inplace=True)"
      ],
      "metadata": {
        "id": "9sb3LoHNf9ww"
      },
      "execution_count": 13,
      "outputs": []
    },
    {
      "cell_type": "code",
      "source": [
        "#Checking Distributions of column RestingECG\n",
        "plot = plt.figure(figsize=(6,6))\n",
        "plt.gca().spines['top'].set_visible(False)\n",
        "plt.gca().spines['right'].set_visible(False)\n",
        "sns.countplot(heart_data['RestingECG'], palette = \"inferno_r\")\n",
        "plt.show()"
      ],
      "metadata": {
        "id": "YW-yyc3RgWkG",
        "colab": {
          "base_uri": "https://localhost:8080/",
          "height": 388
        },
        "outputId": "0ada2ab0-35a8-438c-c4ee-89dfd474bafb"
      },
      "execution_count": 14,
      "outputs": [
        {
          "output_type": "display_data",
          "data": {
            "text/plain": [
              "<Figure size 432x432 with 1 Axes>"
            ],
            "image/png": "[encoded data removed]"
          },
          "metadata": {
            "needs_background": "light"
          }
        }
      ]
    },
    {
      "cell_type": "code",
      "source": [
        "#Replacing values in  RestingECG columns with numeric values\n",
        "heart_data['RestingECG'].replace({'Normal':0,'ST':1,'LVH':2}, inplace=True)"
      ],
      "metadata": {
        "id": "2tinJSipgWgZ"
      },
      "execution_count": 15,
      "outputs": []
    },
    {
      "cell_type": "code",
      "source": [
        "#Checking Distributions of column ExerciseAngina\n",
        "plot = plt.figure(figsize=(6,6))\n",
        "plt.gca().spines['top'].set_visible(False)\n",
        "plt.gca().spines['right'].set_visible(False)\n",
        "sns.countplot(heart_data['ExerciseAngina'], palette=\"mako_r\")\n",
        "plt.show()"
      ],
      "metadata": {
        "id": "j_zlgx1Hh4Ww",
        "colab": {
          "base_uri": "https://localhost:8080/",
          "height": 388
        },
        "outputId": "0b5dc262-d9ff-48b9-d728-a0507a7f988b"
      },
      "execution_count": 16,
      "outputs": [
        {
          "output_type": "display_data",
          "data": {
            "text/plain": [
              "<Figure size 432x432 with 1 Axes>"
            ],
            "image/png": "[encoded data removed]"
          },
          "metadata": {
            "needs_background": "light"
          }
        }
      ]
    },
    {
      "cell_type": "code",
      "source": [
        "#Replacing values in ExerciseAngina column with numeric values\n",
        "heart_data['ExerciseAngina'].replace({'N':0,'Y':1}, inplace=True)"
      ],
      "metadata": {
        "id": "R6KTkKsniGxm"
      },
      "execution_count": 17,
      "outputs": []
    },
    {
      "cell_type": "code",
      "source": [
        "#Checking Distributions of column ST-Slope\n",
        "plot = plt.figure(figsize=(6,6))\n",
        "plt.gca().spines['top'].set_visible(False)\n",
        "plt.gca().spines['right'].set_visible(False)\n",
        "sns.countplot(heart_data['ST_Slope'], palette='PuBu_r')\n",
        "plt.show()"
      ],
      "metadata": {
        "id": "-N2fQ57SgWYn",
        "colab": {
          "base_uri": "https://localhost:8080/",
          "height": 389
        },
        "outputId": "39ec3a78-24ae-4817-f47a-4efdc4eee14a"
      },
      "execution_count": 18,
      "outputs": [
        {
          "output_type": "display_data",
          "data": {
            "text/plain": [
              "<Figure size 432x432 with 1 Axes>"
            ],
            "image/png": "[encoded data removed]"
          },
          "metadata": {
            "needs_background": "light"
          }
        }
      ]
    },
    {
      "cell_type": "code",
      "source": [
        "#Replacing values in ST_Slope columns with numeric values\n",
        "heart_data['ST_Slope'].replace({'Up':0,'Flat':1,'Down':2}, inplace=True)"
      ],
      "metadata": {
        "id": "dSp1YRWqhfuu"
      },
      "execution_count": 19,
      "outputs": []
    },
    {
      "cell_type": "markdown",
      "source": [
        "## Splitting Features and Target"
      ],
      "metadata": {
        "id": "cRU678iF-ZsU"
      }
    },
    {
      "cell_type": "code",
      "source": [
        "X = heart_data.drop('HeartDisease', axis=1)\n",
        "y = heart_data['HeartDisease']"
      ],
      "metadata": {
        "id": "vIvxbpKDsILt"
      },
      "execution_count": 20,
      "outputs": []
    },
    {
      "cell_type": "code",
      "source": [
        "print(X)\n",
        "print(y)"
      ],
      "metadata": {
        "id": "KSLsLYrm-tGr",
        "colab": {
          "base_uri": "https://localhost:8080/"
        },
        "outputId": "86691e38-0a38-457d-be95-6220034b5b43"
      },
      "execution_count": 21,
      "outputs": [
        {
          "output_type": "stream",
          "name": "stdout",
          "text": [
            "     Age  Sex  ChestPainType  RestingBP  Cholesterol  FastingBS  RestingECG  \\\n",
            "0     40    1              0        140          289          0           0   \n",
            "1     49    0              1        160          180          0           0   \n",
            "2     37    1              0        130          283          0           1   \n",
            "3     48    0              2        138          214          0           0   \n",
            "4     54    1              1        150          195          0           0   \n",
            "..   ...  ...            ...        ...          ...        ...         ...   \n",
            "913   45    1              3        110          264          0           0   \n",
            "914   68    1              2        144          193          1           0   \n",
            "915   57    1              2        130          131          0           0   \n",
            "916   57    0              0        130          236          0           2   \n",
            "917   38    1              1        138          175          0           0   \n",
            "\n",
            "     MaxHR  ExerciseAngina  Oldpeak  ST_Slope  \n",
            "0      172               0      0.0         0  \n",
            "1      156               0      1.0         1  \n",
            "2       98               0      0.0         0  \n",
            "3      108               1      1.5         1  \n",
            "4      122               0      0.0         0  \n",
            "..     ...             ...      ...       ...  \n",
            "913    132               0      1.2         1  \n",
            "914    141               0      3.4         1  \n",
            "915    115               1      1.2         1  \n",
            "916    174               0      0.0         1  \n",
            "917    173               0      0.0         0  \n",
            "\n",
            "[918 rows x 11 columns]\n",
            "0      0\n",
            "1      1\n",
            "2      0\n",
            "3      1\n",
            "4      0\n",
            "      ..\n",
            "913    1\n",
            "914    1\n",
            "915    1\n",
            "916    1\n",
            "917    0\n",
            "Name: HeartDisease, Length: 918, dtype: int64\n"
          ]
        }
      ]
    },
    {
      "cell_type": "markdown",
      "source": [
        "## Data Standardization"
      ],
      "metadata": {
        "id": "RCUXPr9PDZI3"
      }
    },
    {
      "cell_type": "code",
      "source": [
        "scaler = StandardScaler()\n",
        "X = scaler.fit_transform(X)"
      ],
      "metadata": {
        "id": "I7Q9c9ViDTk6"
      },
      "execution_count": 22,
      "outputs": []
    },
    {
      "cell_type": "code",
      "source": [
        "#Saving variance and mean of standardization\n",
        "std = np.sqrt(scaler.var_)\n",
        "np.save('heart_disease_std.npy',std)\n",
        "np.save('heart_disease_mean.npy', scaler.mean_)"
      ],
      "metadata": {
        "id": "0kWiQYysKj8t"
      },
      "execution_count": 23,
      "outputs": []
    },
    {
      "cell_type": "markdown",
      "source": [
        "## Train Test Split"
      ],
      "metadata": {
        "id": "vuXNXXq8-xzL"
      }
    },
    {
      "cell_type": "code",
      "source": [
        "X_train, X_test, y_train, y_test = train_test_split(X,y, stratify=y, test_size=0.2, random_state=2)"
      ],
      "metadata": {
        "id": "UZsnC9se-vpC"
      },
      "execution_count": 24,
      "outputs": []
    },
    {
      "cell_type": "code",
      "source": [
        "print(X.shape, X_train.shape, X_test.shape)"
      ],
      "metadata": {
        "id": "Gua_J6A2_m6s",
        "colab": {
          "base_uri": "https://localhost:8080/"
        },
        "outputId": "a38f92b9-7581-4d37-f8bc-9f215ba74623"
      },
      "execution_count": 25,
      "outputs": [
        {
          "output_type": "stream",
          "name": "stdout",
          "text": [
            "(918, 11) (734, 11) (184, 11)\n"
          ]
        }
      ]
    },
    {
      "cell_type": "code",
      "source": [
        "# Creating a function to calculate best model for this problem\n",
        "def find_best_model(X, y):\n",
        "    models = {\n",
        "        'logistic_regression': {\n",
        "            'model': LogisticRegression(solver='lbfgs', multi_class='auto'),\n",
        "            'parameters': {\n",
        "                'C': [1,5,10]\n",
        "               }\n",
        "        },\n",
        "        \n",
        "        'decision_tree': {\n",
        "            'model': DecisionTreeClassifier(splitter='best'),\n",
        "            'parameters': {\n",
        "                'criterion': ['gini', 'entropy'],\n",
        "                'max_depth': [5,10]\n",
        "            }\n",
        "        },\n",
        "        \n",
        "        'random_forest': {\n",
        "            'model': RandomForestClassifier(criterion='gini'),\n",
        "            'parameters': {\n",
        "                'n_estimators': [10,15,20,50,100,200]\n",
        "            }\n",
        "        },\n",
        "        \n",
        "        'svm': {\n",
        "            'model': SVC(gamma='auto'),\n",
        "            'parameters': {\n",
        "                'C': [1,10,20],\n",
        "                'kernel': ['rbf','linear']\n",
        "            }\n",
        "        }\n",
        "\n",
        "    }\n",
        "    \n",
        "    scores = [] \n",
        "    cv_shuffle = ShuffleSplit(n_splits=5, test_size=0.20, random_state=2)\n",
        "        \n",
        "    for model_name, model_params in models.items():\n",
        "        gs = GridSearchCV(model_params['model'], model_params['parameters'], cv = cv_shuffle, return_train_score=False)\n",
        "        gs.fit(X, y)\n",
        "        scores.append({\n",
        "            'model': model_name,\n",
        "            'best_parameters': gs.best_params_,\n",
        "            'score': gs.best_score_\n",
        "        })\n",
        "        \n",
        "    return pd.DataFrame(scores, columns=['model','best_parameters','score'])\n",
        "\n",
        "find_best_model(X_train, y_train)"
      ],
      "metadata": {
        "id": "RxSX8Po2bRIl",
        "colab": {
          "base_uri": "https://localhost:8080/",
          "height": 175
        },
        "outputId": "0dfcb644-3de3-4d0a-a91f-0938a8cdcb79"
      },
      "execution_count": 26,
      "outputs": [
        {
          "output_type": "execute_result",
          "data": {
            "text/plain": [
              "                 model                           best_parameters     score\n",
              "0  logistic_regression                                  {'C': 1}  0.859864\n",
              "1        decision_tree  {'criterion': 'entropy', 'max_depth': 5}  0.842177\n",
              "2        random_forest                     {'n_estimators': 100}  0.869388\n",
              "3                  svm                 {'C': 1, 'kernel': 'rbf'}  0.866667"
            ],
            "text/html": [
              "\n",
              "  <div id=\"df-37d69865-aae4-4ea4-bb41-c18f81d96b10\">\n",
              "    <div class=\"colab-df-container\">\n",
              "      <div>\n",
              "<style scoped>\n",
              "    .dataframe tbody tr th:only-of-type {\n",
              "        vertical-align: middle;\n",
              "    }\n",
              "\n",
              "    .dataframe tbody tr th {\n",
              "        vertical-align: top;\n",
              "    }\n",
              "\n",
              "    .dataframe thead th {\n",
              "        text-align: right;\n",
              "    }\n",
              "</style>\n",
              "<table border=\"1\" class=\"dataframe\">\n",
              "  <thead>\n",
              "    <tr style=\"text-align: right;\">\n",
              "      <th></th>\n",
              "      <th>model</th>\n",
              "      <th>best_parameters</th>\n",
              "      <th>score</th>\n",
              "    </tr>\n",
              "  </thead>\n",
              "  <tbody>\n",
              "    <tr>\n",
              "      <th>0</th>\n",
              "      <td>logistic_regression</td>\n",
              "      <td>{'C': 1}</td>\n",
              "      <td>0.859864</td>\n",
              "    </tr>\n",
              "    <tr>\n",
              "      <th>1</th>\n",
              "      <td>decision_tree</td>\n",
              "      <td>{'criterion': 'entropy', 'max_depth': 5}</td>\n",
              "      <td>0.842177</td>\n",
              "    </tr>\n",
              "    <tr>\n",
              "      <th>2</th>\n",
              "      <td>random_forest</td>\n",
              "      <td>{'n_estimators': 100}</td>\n",
              "      <td>0.869388</td>\n",
              "    </tr>\n",
              "    <tr>\n",
              "      <th>3</th>\n",
              "      <td>svm</td>\n",
              "      <td>{'C': 1, 'kernel': 'rbf'}</td>\n",
              "      <td>0.866667</td>\n",
              "    </tr>\n",
              "  </tbody>\n",
              "</table>\n",
              "</div>\n",
              "      <button class=\"colab-df-convert\" onclick=\"convertToInteractive('df-37d69865-aae4-4ea4-bb41-c18f81d96b10')\"\n",
              "              title=\"Convert this dataframe to an interactive table.\"\n",
              "              style=\"display:none;\">\n",
              "        \n",
              "  <svg xmlns=\"http://www.w3.org/2000/svg\" height=\"24px\"viewBox=\"0 0 24 24\"\n",
              "       width=\"24px\">\n",
              "    <path d=\"M0 0h24v24H0V0z\" fill=\"none\"/>\n",
              "    <path d=\"M18.56 5.44l.94 2.06.94-2.06 2.06-.94-2.06-.94-.94-2.06-.94 2.06-2.06.94zm-11 1L8.5 8.5l.94-2.06 2.06-.94-2.06-.94L8.5 2.5l-.94 2.06-2.06.94zm10 10l.94 2.06.94-2.06 2.06-.94-2.06-.94-.94-2.06-.94 2.06-2.06.94z\"/><path d=\"M17.41 7.96l-1.37-1.37c-.4-.4-.92-.59-1.43-.59-.52 0-1.04.2-1.43.59L10.3 9.45l-7.72 7.72c-.78.78-.78 2.05 0 2.83L4 21.41c.39.39.9.59 1.41.59.51 0 1.02-.2 1.41-.59l7.78-7.78 2.81-2.81c.8-.78.8-2.07 0-2.86zM5.41 20L4 18.59l7.72-7.72 1.47 1.35L5.41 20z\"/>\n",
              "  </svg>\n",
              "      </button>\n",
              "      \n",
              "  <style>\n",
              "    .colab-df-container {\n",
              "      display:flex;\n",
              "      flex-wrap:wrap;\n",
              "      gap: 12px;\n",
              "    }\n",
              "\n",
              "    .colab-df-convert {\n",
              "      background-color: #E8F0FE;\n",
              "      border: none;\n",
              "      border-radius: 50%;\n",
              "      cursor: pointer;\n",
              "      display: none;\n",
              "      fill: #1967D2;\n",
              "      height: 32px;\n",
              "      padding: 0 0 0 0;\n",
              "      width: 32px;\n",
              "    }\n",
              "\n",
              "    .colab-df-convert:hover {\n",
              "      background-color: #E2EBFA;\n",
              "      box-shadow: 0px 1px 2px rgba(60, 64, 67, 0.3), 0px 1px 3px 1px rgba(60, 64, 67, 0.15);\n",
              "      fill: #174EA6;\n",
              "    }\n",
              "\n",
              "    [theme=dark] .colab-df-convert {\n",
              "      background-color: #3B4455;\n",
              "      fill: #D2E3FC;\n",
              "    }\n",
              "\n",
              "    [theme=dark] .colab-df-convert:hover {\n",
              "      background-color: #434B5C;\n",
              "      box-shadow: 0px 1px 3px 1px rgba(0, 0, 0, 0.15);\n",
              "      filter: drop-shadow(0px 1px 2px rgba(0, 0, 0, 0.3));\n",
              "      fill: #FFFFFF;\n",
              "    }\n",
              "  </style>\n",
              "\n",
              "      <script>\n",
              "        const buttonEl =\n",
              "          document.querySelector('#df-37d69865-aae4-4ea4-bb41-c18f81d96b10 button.colab-df-convert');\n",
              "        buttonEl.style.display =\n",
              "          google.colab.kernel.accessAllowed ? 'block' : 'none';\n",
              "\n",
              "        async function convertToInteractive(key) {\n",
              "          const element = document.querySelector('#df-37d69865-aae4-4ea4-bb41-c18f81d96b10');\n",
              "          const dataTable =\n",
              "            await google.colab.kernel.invokeFunction('convertToInteractive',\n",
              "                                                     [key], {});\n",
              "          if (!dataTable) return;\n",
              "\n",
              "          const docLinkHtml = 'Like what you see? Visit the ' +\n",
              "            '<a target=\"_blank\" href=https://colab.research.google.com/notebooks/data_table.ipynb>data table notebook</a>'\n",
              "            + ' to learn more about interactive tables.';\n",
              "          element.innerHTML = '';\n",
              "          dataTable['output_type'] = 'display_data';\n",
              "          await google.colab.output.renderOutput(dataTable, element);\n",
              "          const docLink = document.createElement('div');\n",
              "          docLink.innerHTML = docLinkHtml;\n",
              "          element.appendChild(docLink);\n",
              "        }\n",
              "      </script>\n",
              "    </div>\n",
              "  </div>\n",
              "  "
            ]
          },
          "metadata": {},
          "execution_count": 26
        }
      ]
    },
    {
      "cell_type": "code",
      "source": [
        "# Using cross_val_score for gaining average accuracy\n",
        "scores = cross_val_score(SVC(C=1, kernel=\"rbf\", random_state=0), X_train, y_train, cv=5)\n",
        "print('Average Accuracy : {}%'.format(round(sum(scores)*100/len(scores)), 3))"
      ],
      "metadata": {
        "id": "f-xR4fkAbQ_L",
        "colab": {
          "base_uri": "https://localhost:8080/"
        },
        "outputId": "808d7a95-9f08-416b-96db-e4adef3ef404"
      },
      "execution_count": 27,
      "outputs": [
        {
          "output_type": "stream",
          "name": "stdout",
          "text": [
            "Average Accuracy : 86%\n"
          ]
        }
      ]
    },
    {
      "cell_type": "markdown",
      "source": [
        "## Model Training\n",
        "\n",
        "Support Vector Machine Classifier"
      ],
      "metadata": {
        "id": "T7-zWu7aC0kK"
      }
    },
    {
      "cell_type": "code",
      "source": [
        "model = SVC(C=1, kernel=\"rbf\")"
      ],
      "metadata": {
        "id": "bBiz1lC7ZEvy"
      },
      "execution_count": 28,
      "outputs": []
    },
    {
      "cell_type": "code",
      "source": [
        "#Training the Support Vector Machine model with training data\n",
        "model.fit(X_train, y_train)"
      ],
      "metadata": {
        "colab": {
          "base_uri": "https://localhost:8080/"
        },
        "id": "W1s5WY-kZEkE",
        "outputId": "0f8d4482-34be-4110-c2a8-d857f5cd0d36"
      },
      "execution_count": 29,
      "outputs": [
        {
          "output_type": "execute_result",
          "data": {
            "text/plain": [
              "SVC(C=1)"
            ]
          },
          "metadata": {},
          "execution_count": 29
        }
      ]
    },
    {
      "cell_type": "markdown",
      "source": [
        "## Model Evaluation"
      ],
      "metadata": {
        "id": "u5rorLOacgCL"
      }
    },
    {
      "cell_type": "markdown",
      "source": [
        "Accuracy score"
      ],
      "metadata": {
        "id": "nm4VA6BvcSUN"
      }
    },
    {
      "cell_type": "code",
      "source": [
        "#Accuracy on training data\n",
        "X_train_prediction = model.predict(X_train)\n",
        "training_data_accuracy = accuracy_score(X_train_prediction,y_train)\n",
        "\n",
        "print('Accuracy score of training data :  {:.2f}% '.format(training_data_accuracy*100))"
      ],
      "metadata": {
        "id": "PM6EAMJDcUQd",
        "colab": {
          "base_uri": "https://localhost:8080/"
        },
        "outputId": "7033edcf-45d6-4fc5-84c6-7f9e6801f230"
      },
      "execution_count": 30,
      "outputs": [
        {
          "output_type": "stream",
          "name": "stdout",
          "text": [
            "Accuracy score of training data :  89.78% \n"
          ]
        }
      ]
    },
    {
      "cell_type": "code",
      "source": [
        "#Accuracy on test data\n",
        "X_test_prediction = model.predict(X_test)\n",
        "test_data_accuracy = accuracy_score(X_test_prediction,y_test)\n",
        "print(\"Accuracy score on test data : {:.2f}%  \".format(test_data_accuracy*100))"
      ],
      "metadata": {
        "id": "qq22zgB-cVCC",
        "colab": {
          "base_uri": "https://localhost:8080/"
        },
        "outputId": "22e9d5e3-afbd-42e1-8e47-a3857774bfaa"
      },
      "execution_count": 31,
      "outputs": [
        {
          "output_type": "stream",
          "name": "stdout",
          "text": [
            "Accuracy score on test data : 88.04%  \n"
          ]
        }
      ]
    },
    {
      "cell_type": "code",
      "source": [
        "# Creating a confusion matrix\n",
        "y_pred = model.predict(X_test)\n",
        "cm = confusion_matrix(y_test, y_pred)\n",
        "\n",
        "# Plotting the confusion matrix\n",
        "plt.figure(figsize=(10,7))\n",
        "p = sns.heatmap(cm, annot=True, cmap=\"YlOrBr\", fmt='g', square=True, linecolor='#BB9981', linewidths=0.01)\n",
        "plt.title('Confusion matrix for Support Vector Machine Model - Test Set')\n",
        "plt.xlabel('Predicted Values')\n",
        "plt.ylabel('Actual Values')\n",
        "plt.show()"
      ],
      "metadata": {
        "id": "8gpfzOxecXvK",
        "colab": {
          "base_uri": "https://localhost:8080/",
          "height": 458
        },
        "outputId": "2b035168-2173-45e2-da4e-4173d92381e3"
      },
      "execution_count": 32,
      "outputs": [
        {
          "output_type": "display_data",
          "data": {
            "text/plain": [
              "<Figure size 720x504 with 2 Axes>"
            ],
            "image/png": "[encoded data removed]"
          },
          "metadata": {
            "needs_background": "light"
          }
        }
      ]
    },
    {
      "cell_type": "markdown",
      "source": [
        "## Building Predictive System"
      ],
      "metadata": {
        "id": "lUjzWb9fEpqt"
      }
    },
    {
      "cell_type": "code",
      "source": [
        "#Creating function for heart disease prediction\n",
        "def heart_disease_prediction(Age ,Sex ,ChestPainType ,RestingBP ,Cholesterol ,FastingBS ,RestingECG ,MaxHR ,ExerciseAngina ,Oldpeak ,ST_Slope):\n",
        "  arguments = [Age ,Sex ,ChestPainType ,RestingBP ,Cholesterol ,FastingBS ,RestingECG ,MaxHR ,ExerciseAngina ,Oldpeak ,ST_Slope]\n",
        "  for arg in arguments:\n",
        "    if type(arg)=='int':\n",
        "      arg = int(arg)\n",
        "    else:\n",
        "      arg = float(arg)\n",
        "  x = [[Age ,Sex ,ChestPainType ,RestingBP ,Cholesterol ,FastingBS ,RestingECG ,MaxHR ,ExerciseAngina ,Oldpeak ,ST_Slope]]\n",
        "  x = scaler.transform(x)\n",
        "  return model.predict(x)\n"
      ],
      "metadata": {
        "id": "IEqCUjwJEVsC"
      },
      "execution_count": 33,
      "outputs": []
    },
    {
      "cell_type": "code",
      "source": [
        "prediction = heart_disease_prediction(40,1,1,140,289,0,0,172,0,0,0)[0]\n",
        "print(prediction)\n",
        "if prediction:\n",
        "   print('Oops! You  have heart disease.')\n",
        "else:\n",
        "  print(\"Great! You don't have heart disease.\")"
      ],
      "metadata": {
        "id": "irfHQb7kdfV5",
        "colab": {
          "base_uri": "https://localhost:8080/"
        },
        "outputId": "6ba15a98-2011-417d-ba88-856707285713"
      },
      "execution_count": 34,
      "outputs": [
        {
          "output_type": "stream",
          "name": "stdout",
          "text": [
            "0\n",
            "Great! You don't have heart disease.\n"
          ]
        }
      ]
    },
    {
      "cell_type": "markdown",
      "source": [
        "## Saving trained model"
      ],
      "metadata": {
        "id": "KptIcV4TdsYn"
      }
    },
    {
      "cell_type": "code",
      "source": [
        "#Saving trained model\n",
        "filename = \"heart_disease_prediction_model.pkl\"\n",
        "pk.dump(model, open(filename, \"wb\"))"
      ],
      "metadata": {
        "id": "Sa6uVZ9QdjHU"
      },
      "execution_count": 35,
      "outputs": []
    },
    {
      "cell_type": "code",
      "source": [
        "#Loading trained model\n",
        "log_model = pk.load(open(filename,\"rb\"))\n",
        "\n",
        "#Loading scaled standard deviation and mean\n",
        "std = np.load('heart_disease_std.npy')\n",
        "mean = np.load('heart_disease_mean.npy')"
      ],
      "metadata": {
        "id": "y8FwM1ibdi_u"
      },
      "execution_count": 36,
      "outputs": []
    },
    {
      "cell_type": "code",
      "source": [
        "#Creating function for heart disease prediction\n",
        "def heart_disease_prediction(Age ,Sex ,ChestPainType ,RestingBP ,Cholesterol ,FastingBS ,RestingECG ,MaxHR ,ExerciseAngina ,Oldpeak ,ST_Slope):\n",
        "  arguments = [Age ,Sex ,ChestPainType ,RestingBP ,Cholesterol ,FastingBS ,RestingECG ,MaxHR ,ExerciseAngina ,Oldpeak ,ST_Slope]\n",
        "  for arg in arguments:\n",
        "    if type(arg)=='int':\n",
        "      arg = int(arg)\n",
        "    else:\n",
        "      arg = float(arg)\n",
        "  x = [[Age ,Sex ,ChestPainType ,RestingBP ,Cholesterol ,FastingBS ,RestingECG ,MaxHR ,ExerciseAngina ,Oldpeak ,ST_Slope]]\n",
        "  x = (x-mean)/std\n",
        "\n",
        "  return log_model.predict(x)\n"
      ],
      "metadata": {
        "id": "UC_nn8aYdi71"
      },
      "execution_count": 37,
      "outputs": []
    },
    {
      "cell_type": "code",
      "source": [
        "prediction = heart_disease_prediction(40,1,1,140,289,0,0,172,0,0,0)[0]\n",
        "print(prediction)\n",
        "if prediction:\n",
        "   print('Oops! You  have heart disease.')\n",
        "else:\n",
        "  print(\"Great! You don't have heart disease.\")"
      ],
      "metadata": {
        "id": "C0KsBTvXdpqI",
        "colab": {
          "base_uri": "https://localhost:8080/"
        },
        "outputId": "89645e44-d07d-4d3e-e85a-255761fb9533"
      },
      "execution_count": 38,
      "outputs": [
        {
          "output_type": "stream",
          "name": "stdout",
          "text": [
            "0\n",
            "Great! You don't have heart disease.\n"
          ]
        }
      ]
    },
    {
      "cell_type": "markdown",
      "source": [
        "## ..........................THANK YOU............................."
      ],
      "metadata": {
        "id": "W77xuwm9GWK7"
      }
    }
  ]
}